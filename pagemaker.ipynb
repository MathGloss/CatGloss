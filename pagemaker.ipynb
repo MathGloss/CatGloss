{
 "cells": [
  {
   "cell_type": "code",
   "execution_count": 3,
   "metadata": {},
   "outputs": [],
   "source": [
    "import csv\n",
    "\n",
    "defdict = {}\n",
    "\n",
    "with open(\"/Users/lucyhorowitz/Documents/MathGloss/catgloss/bct/otherdefs.csv\",'r') as other:\n",
    "    csother = csv.reader(other)\n",
    "    for lines in csother:\n",
    "        defdict[lines[1]] = lines[0]\n",
    "\n",
    "with open(\"/Users/lucyhorowitz/Documents/MathGloss/catgloss/bct/bct_basicdefs.csv\",'r') as basic:\n",
    "    csbasic = csv.reader(basic)\n",
    "    for lines in csbasic:\n",
    "        defdict[lines[1]] = lines[0]"
   ]
  },
  {
   "cell_type": "code",
   "execution_count": 4,
   "metadata": {},
   "outputs": [
    {
     "name": "stdout",
     "output_type": "stream",
     "text": [
      "Markdown files generated successfully.\n"
     ]
    }
   ],
   "source": [
    "import os\n",
    "\n",
    "# Directory where markdown files will be saved\n",
    "output_dir = 'bct'\n",
    "os.makedirs(output_dir, exist_ok=True)\n",
    "\n",
    "for term, definition in defdict.items():\n",
    "    # Creating the markdown content\n",
    "    filename = term.replace(\" \", \"_\").lower() + \".md\"\n",
    "    content = f\"\"\"---\n",
    "layout: page\n",
    "title: {term}\n",
    "permalink: /context/{term.replace(\" \", \"_\").lower()}\n",
    "---\n",
    "{definition}\n",
    "\"\"\"\n",
    "\n",
    "    # Writing the content to a markdown file\n",
    "    with open(os.path.join(output_dir, filename), 'w') as file:\n",
    "        file.write(content)\n",
    "\n",
    "print(\"Markdown files generated successfully.\")\n"
   ]
  }
 ],
 "metadata": {
  "kernelspec": {
   "display_name": "Python 3",
   "language": "python",
   "name": "python3"
  },
  "language_info": {
   "codemirror_mode": {
    "name": "ipython",
    "version": 3
   },
   "file_extension": ".py",
   "mimetype": "text/x-python",
   "name": "python",
   "nbconvert_exporter": "python",
   "pygments_lexer": "ipython3",
   "version": "3.12.3"
  }
 },
 "nbformat": 4,
 "nbformat_minor": 2
}
