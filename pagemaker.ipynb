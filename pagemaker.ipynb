{
 "cells": [
  {
   "cell_type": "code",
   "execution_count": 3,
   "metadata": {},
   "outputs": [],
   "source": [
    "import csv\n",
    "\n",
    "defdict = {}\n",
    "\n",
    "with open(\"/Users/lucyhorowitz/Documents/MathGloss/catgloss/topoi/goldblatt_pages.csv\",'r') as other:\n",
    "    csother = csv.reader(other)\n",
    "    for lines in csother:\n",
    "        defdict[lines[0]] = lines[1]\n",
    "\n",
    "#with open(\"/Users/lucyhorowitz/Documents/MathGloss/catgloss/bct/bct_basicdefs.csv\",'r') as basic:\n",
    "#    csbasic = csv.reader(basic)\n",
    "#    for lines in csbasic:\n",
    "#        defdict[lines[1]] = lines[0]"
   ]
  },
  {
   "cell_type": "code",
   "execution_count": null,
   "metadata": {},
   "outputs": [],
   "source": []
  },
  {
   "cell_type": "code",
   "execution_count": 4,
   "metadata": {},
   "outputs": [
    {
     "name": "stdout",
     "output_type": "stream",
     "text": [
      "Markdown files generated successfully.\n"
     ]
    }
   ],
   "source": [
    "import os\n",
    "\n",
    "# Directory where markdown files will be saved\n",
    "output_dir = 'topoi'\n",
    "os.makedirs(output_dir, exist_ok=True)\n",
    "\n",
    "for term, definition in defdict.items():\n",
    "    # Creating the markdown content\n",
    "    filename = term.replace(\" \", \"_\").lower() + \".md\"\n",
    "    content = f\"\"\"---\n",
    "layout: page\n",
    "title: {term}\n",
    "permalink: /topoi/{term.replace(\" \", \"_\").lower()}\n",
    "---\n",
    "{definition}\n",
    "\"\"\"\n",
    "\n",
    "    # Writing the content to a markdown file\n",
    "    with open(os.path.join(output_dir, filename), 'w') as file:\n",
    "        file.write(content)\n",
    "\n",
    "print(\"Markdown files generated successfully.\")\n"
   ]
  },
  {
   "cell_type": "code",
   "execution_count": 10,
   "metadata": {},
   "outputs": [],
   "source": [
    "import csv\n",
    "\n",
    "prebase = csv.reader(open(\"/Users/lucyhorowitz/Documents/GitHub/CatGloss/wikidata_terms.csv\",\"r\"))\n",
    "listicle = [thing for thing in prebase]\n",
    "\n",
    "i=0\n",
    "listicle2 = []\n",
    "for thing in listicle:\n",
    "    if not i==0:\n",
    "        if thing[0]:\n",
    "            listicle[i][0] = f\"[{thing[0]}](https://www.wikidata.org/wiki/{thing[0]})\"\n",
    "        if thing[1]:\n",
    "            listicle[i][1] = f\"[{thing[1]}](https://mathgloss.github.io/CatGloss/context/{thing[1].lower().replace(\" \",\"_\")})\"\n",
    "        if thing[3]:\n",
    "            listicle[i][3] = f\"[{thing[3]}](https://mathgloss.github.io/CatGloss/bct/{thing[3].lower().replace(\" \",\"_\")})\"\n",
    "        if thing[4]:\n",
    "            listicle[i][4] = f\"[{thing[4]}](https://ncatlab.org/nlab/show/{thing[4].lower().replace(\" \",\"+\")})\"\n",
    "        if thing[2]:\n",
    "            listicle[i][2] = f\"[{thing[2]}](https://mathgloss.github.io/CatGloss/topoi/{thing[2].lower().replace(\" \",\"_\")})\"\n",
    "    i+=1\n",
    "\n",
    "with open('database.csv','w') as database:\n",
    "    for thing in listicle:\n",
    "        database.write(f\"{thing[0]},{thing[1]},{thing[2]},{thing[3]},{thing[4]}\")\n",
    "        database.write(\"\\n\")"
   ]
  }
 ],
 "metadata": {
  "kernelspec": {
   "display_name": "Python 3",
   "language": "python",
   "name": "python3"
  },
  "language_info": {
   "codemirror_mode": {
    "name": "ipython",
    "version": 3
   },
   "file_extension": ".py",
   "mimetype": "text/x-python",
   "name": "python",
   "nbconvert_exporter": "python",
   "pygments_lexer": "ipython3",
   "version": "3.12.3"
  }
 },
 "nbformat": 4,
 "nbformat_minor": 2
}
